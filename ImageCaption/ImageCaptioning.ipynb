{
  "nbformat": 4,
  "nbformat_minor": 0,
  "metadata": {
    "colab": {
      "name": "ImageCaptioning.ipynb",
      "provenance": [],
      "collapsed_sections": [],
      "toc_visible": true
    },
    "kernelspec": {
      "name": "python3",
      "display_name": "Python 3"
    },
    "language_info": {
      "name": "python"
    },
    "accelerator": "GPU"
  },
  "cells": [
    {
      "cell_type": "markdown",
      "metadata": {
        "id": "m6yjHGsmBaV0"
      },
      "source": [
        "# キャプション生成チュートリアル\n",
        "\n",
        "- 参考は [こちら](https://github.com/yunjey/pytorch-tutorial/tree/master/tutorials/03-advanced/image_captioning)\n",
        "\n",
        "<img src=\"https://github.com/yunjey/pytorch-tutorial/raw/master/tutorials/03-advanced/image_captioning/png/model.png\" title=\"Model\" width=\"60%\">\n",
        "\n",
        "- Image Encoder ... ResNet (CNN)\n",
        "- Text Decoder ... LSTM\n",
        "\n"
      ]
    },
    {
      "cell_type": "markdown",
      "metadata": {
        "id": "HnTuG7wICQSn"
      },
      "source": [
        "## 準備\n",
        "- オリジナルの COCO データサイズが大きいため、ここでは動作の確認として、予め作成しておいたミニマルデータを使用します"
      ]
    },
    {
      "cell_type": "code",
      "metadata": {
        "colab": {
          "base_uri": "https://localhost:8080/"
        },
        "id": "e3MvbmZX0R4z",
        "outputId": "3aa6da10-d7ee-46e1-b90a-69ceeec8dade"
      },
      "source": [
        "%%bash\n",
        "\n",
        "# wget -nc http://msvocds.blob.core.windows.net/annotations-1-0-3/captions_train-val2014.zip -P $DDIR\n",
        "# wget -nc http://images.cocodataset.org/zips/val2014.zip -P $DDIR\n",
        "wget -nc \"https://drive.google.com/uc?export=download&id=12SIP-geDhh5XHw-6q4UzbYAfXQyS0CN0\" -O small_coco.tar.gz\n",
        "\n",
        "tar -zxvf small_coco.tar.gz \\\n",
        "  && rm -rf small_coco.tar.gz"
      ],
      "execution_count": null,
      "outputs": [
        {
          "output_type": "stream",
          "text": [
            "datasets/\n",
            "datasets/.ipynb_checkpoints/\n",
            "datasets/images/\n",
            "datasets/images/COCO_val2014_000000008647.jpg\n",
            "datasets/images/COCO_val2014_000000008787.jpg\n",
            "datasets/images/COCO_val2014_000000008443.jpg\n",
            "datasets/images/.ipynb_checkpoints/\n",
            "datasets/images/COCO_val2014_000000008188.jpg\n",
            "datasets/images/COCO_val2014_000000008010.jpg\n",
            "datasets/images/COCO_val2014_000000008718.jpg\n",
            "datasets/images/COCO_val2014_000000008690.jpg\n",
            "datasets/images/COCO_val2014_000000008351.jpg\n",
            "datasets/images/COCO_val2014_000000008953.jpg\n",
            "datasets/images/COCO_val2014_000000008080.jpg\n",
            "datasets/images/COCO_val2014_000000008196.jpg\n",
            "datasets/images/COCO_val2014_000000008612.jpg\n",
            "datasets/images/COCO_val2014_000000008688.jpg\n",
            "datasets/images/COCO_val2014_000000008532.jpg\n",
            "datasets/images/COCO_val2014_000000008665.jpg\n",
            "datasets/images/COCO_val2014_000000008771.jpg\n",
            "datasets/images/COCO_val2014_000000008401.jpg\n",
            "datasets/images/COCO_val2014_000000008888.jpg\n",
            "datasets/images/COCO_val2014_000000008548.jpg\n",
            "datasets/images/COCO_val2014_000000008218.jpg\n",
            "datasets/images/COCO_val2014_000000008844.jpg\n",
            "datasets/images/COCO_val2014_000000008445.jpg\n",
            "datasets/images/COCO_val2014_000000008922.jpg\n",
            "datasets/images/COCO_val2014_000000008065.jpg\n",
            "datasets/images/COCO_val2014_000000008762.jpg\n",
            "datasets/images/COCO_val2014_000000008292.jpg\n",
            "datasets/images/COCO_val2014_000000008981.jpg\n",
            "datasets/images/COCO_val2014_000000008190.jpg\n",
            "datasets/images/COCO_val2014_000000008853.jpg\n",
            "datasets/images/COCO_val2014_000000008708.jpg\n",
            "datasets/images/COCO_val2014_000000008495.jpg\n",
            "datasets/images/COCO_val2014_000000008457.jpg\n",
            "datasets/images/COCO_val2014_000000008473.jpg\n",
            "datasets/images/COCO_val2014_000000008646.jpg\n",
            "datasets/images/COCO_val2014_000000008749.jpg\n",
            "datasets/images/COCO_val2014_000000008179.jpg\n",
            "datasets/images/COCO_val2014_000000008119.jpg\n",
            "datasets/images/COCO_val2014_000000008899.jpg\n",
            "datasets/images/COCO_val2014_000000008333.jpg\n",
            "datasets/images/COCO_val2014_000000008832.jpg\n",
            "datasets/images/COCO_val2014_000000008594.jpg\n",
            "datasets/images/COCO_val2014_000000008589.jpg\n",
            "datasets/images/COCO_val2014_000000008934.jpg\n",
            "datasets/images/COCO_val2014_000000008803.jpg\n",
            "datasets/images/COCO_val2014_000000008045.jpg\n",
            "datasets/images/COCO_val2014_000000008350.jpg\n",
            "datasets/images/COCO_val2014_000000008021.jpg\n",
            "datasets/images/COCO_val2014_000000008128.jpg\n",
            "datasets/images/COCO_val2014_000000008191.jpg\n",
            "datasets/images/COCO_val2014_000000008180.jpg\n",
            "datasets/images/COCO_val2014_000000008629.jpg\n",
            "datasets/images/COCO_val2014_000000008005.jpg\n",
            "datasets/images/COCO_val2014_000000008721.jpg\n",
            "datasets/images/COCO_val2014_000000008923.jpg\n",
            "datasets/images/COCO_val2014_000000008775.jpg\n",
            "datasets/images/COCO_val2014_000000008170.jpg\n",
            "datasets/images/COCO_val2014_000000008603.jpg\n",
            "datasets/images/COCO_val2014_000000008498.jpg\n",
            "datasets/images/COCO_val2014_000000008131.jpg\n",
            "datasets/images/COCO_val2014_000000008211.jpg\n",
            "datasets/images/COCO_val2014_000000008583.jpg\n",
            "datasets/images/COCO_val2014_000000008204.jpg\n",
            "datasets/images/COCO_val2014_000000008277.jpg\n",
            "datasets/images/COCO_val2014_000000008267.jpg\n",
            "datasets/images/COCO_val2014_000000008042.jpg\n",
            "datasets/images/COCO_val2014_000000008483.jpg\n",
            "datasets/images/COCO_val2014_000000008493.jpg\n",
            "datasets/images/COCO_val2014_000000008599.jpg\n",
            "datasets/images/COCO_val2014_000000008418.jpg\n",
            "datasets/images/COCO_val2014_000000008711.jpg\n",
            "datasets/images/COCO_val2014_000000008016.jpg\n",
            "datasets/images/COCO_val2014_000000008181.jpg\n",
            "datasets/images/COCO_val2014_000000008876.jpg\n",
            "datasets/images/COCO_val2014_000000008676.jpg\n",
            "datasets/captions/\n",
            "datasets/captions/stair_small.json\n",
            "datasets/captions/coco_small.json\n"
          ],
          "name": "stdout"
        },
        {
          "output_type": "stream",
          "text": [
            "--2021-05-24 21:17:43--  https://drive.google.com/uc?export=download&id=12SIP-geDhh5XHw-6q4UzbYAfXQyS0CN0\n",
            "Resolving drive.google.com (drive.google.com)... 108.177.126.102, 108.177.126.139, 108.177.126.113, ...\n",
            "Connecting to drive.google.com (drive.google.com)|108.177.126.102|:443... connected.\n",
            "HTTP request sent, awaiting response... 302 Moved Temporarily\n",
            "Location: https://doc-10-4c-docs.googleusercontent.com/docs/securesc/ha0ro937gcuc7l7deffksulhg5h7mbp1/ldosg0kkds54j5od23a3rnro12i8al1j/1621891050000/07139579360538472045/*/12SIP-geDhh5XHw-6q4UzbYAfXQyS0CN0?e=download [following]\n",
            "Warning: wildcards not supported in HTTP.\n",
            "--2021-05-24 21:17:44--  https://doc-10-4c-docs.googleusercontent.com/docs/securesc/ha0ro937gcuc7l7deffksulhg5h7mbp1/ldosg0kkds54j5od23a3rnro12i8al1j/1621891050000/07139579360538472045/*/12SIP-geDhh5XHw-6q4UzbYAfXQyS0CN0?e=download\n",
            "Resolving doc-10-4c-docs.googleusercontent.com (doc-10-4c-docs.googleusercontent.com)... 108.177.119.132, 2a00:1450:4013:c00::84\n",
            "Connecting to doc-10-4c-docs.googleusercontent.com (doc-10-4c-docs.googleusercontent.com)|108.177.119.132|:443... connected.\n",
            "HTTP request sent, awaiting response... 200 OK\n",
            "Length: unspecified [application/x-gzip]\n",
            "Saving to: ‘small_coco.tar.gz’\n",
            "\n",
            "     0K .......... .......... .......... .......... .......... 45.2M\n",
            "    50K .......... .......... .......... .......... .......... 29.8M\n",
            "   100K .......... .......... .......... .......... .......... 47.8M\n",
            "   150K .......... .......... .......... .......... ..........  102M\n",
            "   200K .......... .......... .......... .......... ..........  106M\n",
            "   250K .......... .......... .......... .......... ..........  115M\n",
            "   300K .......... .......... .......... .......... .......... 94.4M\n",
            "   350K .......... .......... .......... .......... .......... 89.0M\n",
            "   400K .......... .......... .......... .......... .......... 45.9M\n",
            "   450K .......... .......... .......... .......... .......... 63.3M\n",
            "   500K .......... .......... .......... .......... .......... 67.1M\n",
            "   550K .......... .......... .......... .......... .......... 66.5M\n",
            "   600K .......... .......... .......... .......... .......... 63.0M\n",
            "   650K .......... .......... .......... .......... .......... 56.0M\n",
            "   700K .......... .......... .......... .......... .......... 65.4M\n",
            "   750K .......... .......... .......... .......... .......... 64.3M\n",
            "   800K .......... .......... .......... .......... .......... 61.6M\n",
            "   850K .......... .......... .......... .......... .......... 69.5M\n",
            "   900K .......... .......... .......... .......... .......... 58.8M\n",
            "   950K .......... .......... .......... .......... .......... 65.7M\n",
            "  1000K .......... .......... .......... .......... .......... 73.5M\n",
            "  1050K .......... .......... .......... .......... ..........  189M\n",
            "  1100K .......... .......... .......... .......... ..........  201M\n",
            "  1150K .......... .......... .......... .......... ..........  250M\n",
            "  1200K .......... .......... .......... .......... ..........  217M\n",
            "  1250K .......... .......... .......... .......... ..........  202M\n",
            "  1300K .......... .......... .......... .......... ..........  181M\n",
            "  1350K .......... .......... .......... .......... ..........  214M\n",
            "  1400K .......... .......... .......... .......... ..........  242M\n",
            "  1450K .......... .......... .......... .......... ..........  214M\n",
            "  1500K .......... .......... .......... .......... ..........  195M\n",
            "  1550K .......... .......... .......... .......... ..........  254M\n",
            "  1600K .......... .......... .......... .......... ..........  243M\n",
            "  1650K .......... .......... .......... .......... ..........  243M\n",
            "  1700K .......... .......... .......... .......... ..........  167M\n",
            "  1750K .......... .......... .......... .......... ..........  251M\n",
            "  1800K .......... .......... .......... .......... ..........  204M\n",
            "  1850K .......... .......... .......... .......... ..........  244M\n",
            "  1900K .......... .......... .......... .......... .......... 91.8M\n",
            "  1950K .......... .......... .......... .......... ..........  168M\n",
            "  2000K .......... .......... .......... .......... ..........  110M\n",
            "  2050K .......... .......... .......... .......... ..........  128M\n",
            "  2100K .......... .......... .......... .......... ..........  116M\n",
            "  2150K .......... .......... .......... .......... ..........  130M\n",
            "  2200K .......... .......... .......... .......... ..........  141M\n",
            "  2250K .......... .......... .......... .......... ..........  112M\n",
            "  2300K .......... .......... .......... .......... ..........  121M\n",
            "  2350K .......... .......... .......... .......... ..........  133M\n",
            "  2400K .......... .......... .......... .......... ..........  178M\n",
            "  2450K .......... .......... .......... .......... ..........  132M\n",
            "  2500K .......... .......... .......... .......... ..........  106M\n",
            "  2550K .......... .......... .......... .......... ..........  140M\n",
            "  2600K .......... .......... .......... .......... ..........  127M\n",
            "  2650K .......... .......... .......... .......... ..........  130M\n",
            "  2700K .......... .......... .......... .......... ..........  119M\n",
            "  2750K .......... .......... .......... .......... ..........  134M\n",
            "  2800K .......... .......... .......... .......... ..........  122M\n",
            "  2850K .......... .......... .......... .......... ..........  138M\n",
            "  2900K .......... .......... .......... .......... ..........  112M\n",
            "  2950K .......... .......... .......... .......... ..........  145M\n",
            "  3000K .......... .......... .......... .......... ..........  120M\n",
            "  3050K .......... .......... .......... .......... ..........  130M\n",
            "  3100K .......... .......... .......... .......... ..........  113M\n",
            "  3150K .......... .......... .......... .......... ..........  132M\n",
            "  3200K .......... .......... .......... .......... ..........  151M\n",
            "  3250K .......... .......... .......... .......... ..........  136M\n",
            "  3300K .......... .......... .......... .......... ..........  110M\n",
            "  3350K .......... .......... .......... .......... ..........  120M\n",
            "  3400K .......... .......... .......... .......... ..........  125M\n",
            "  3450K .......... .......... .......... .......... ..........  131M\n",
            "  3500K .......... .......... .......... .......... ..........  114M\n",
            "  3550K .......... .......... .......... .......... ..........  126M\n",
            "  3600K .......... .......... .......... .......... ..........  122M\n",
            "  3650K .......... .......... .......... .......... ..........  152M\n",
            "  3700K .......... .......... .......... .......... ..........  120M\n",
            "  3750K .......... .......... .......... .......... ..........  127M\n",
            "  3800K .......... .......... .......... .......... ..........  141M\n",
            "  3850K .......... .......... .......... .......... ..........  127M\n",
            "  3900K .......... .......... .......... .......... ..........  120M\n",
            "  3950K .......... .......... .......... .......... ..........  139M\n",
            "  4000K .......... .......... .......... .......... ..........  117M\n",
            "  4050K .......... .......... .......... .......... ..........  118M\n",
            "  4100K .......... .......... .......... .......... ..........  113M\n",
            "  4150K .......... .......... .......... .......... ..........  133M\n",
            "  4200K .......... .......... .......... .......... ..........  149M\n",
            "  4250K .......... .......... .......... .......... ..........  126M\n",
            "  4300K .......... .......... .......... .......... ..........  120M\n",
            "  4350K .......... .......... .......... .......... ..........  121M\n",
            "  4400K .......... .......... .......... .......... ..........  138M\n",
            "  4450K .......... .......... .......... .......... ..........  147M\n",
            "  4500K .......... .......... .......... .......... ..........  108M\n",
            "  4550K .......... .......... .......... .......... ..........  134M\n",
            "  4600K .......... .......... .......... .......... ..........  133M\n",
            "  4650K .......... .......... .......... .......... ..........  144M\n",
            "  4700K .......... .......... .......... .......... ..........  114M\n",
            "  4750K .......... .......... .......... .......... ..........  115M\n",
            "  4800K .......... .......... .......... .......... ..........  144M\n",
            "  4850K .......... .......... .......... .......... ..........  134M\n",
            "  4900K .......... .......... .......... .......... ..........  120M\n",
            "  4950K .......... .......... .......... .......... ..........  130M\n",
            "  5000K .......... .......... .......... .......... ..........  137M\n",
            "  5050K .......... .......... .......... .......... ..........  125M\n",
            "  5100K .......... .......... .......... .......... ..........  110M\n",
            "  5150K .......... .......... .......... .......... ..........  145M\n",
            "  5200K .......... .......... .......... .......... ..........  133M\n",
            "  5250K .......... .......... .......... .......... ..........  143M\n",
            "  5300K .......... .......... .......... .......... ..........  108M\n",
            "  5350K .......... .......... .......... .......... ..........  139M\n",
            "  5400K .......... .......... .......... .......... ..........  147M\n",
            "  5450K .......... .......... .......... .......... ..........  134M\n",
            "  5500K .......... .......... .......... .......... ..........  114M\n",
            "  5550K .......... .......... .......... .......... ..........  115M\n",
            "  5600K .......... .......... .......... .......... ..........  145M\n",
            "  5650K .......... .......... .......... .......... ..........  129M\n",
            "  5700K .......... .......... .......... .......... ..........  133M\n",
            "  5750K .......... .......... .......... .......... ..........  134M\n",
            "  5800K .......... .......... .......... .......... ..........  137M\n",
            "  5850K .......... .......... .......... .......... ..........  144M\n",
            "  5900K .......... .......... .......... .......... ..........  115M\n",
            "  5950K .......... .......... .......... .......... ..........  119M\n",
            "  6000K .......... .......... .......... .......... ..........  142M\n",
            "  6050K .......... .......... .......... .......... ..........  136M\n",
            "  6100K .......... .......... .......... .......... ..........  105M\n",
            "  6150K .......... .......... .......... .......... ..........  134M\n",
            "  6200K .......... .......... .......... .......... ..........  135M\n",
            "  6250K .......... .......... .......... .......... ..........  151M\n",
            "  6300K .......... .......... .......... .......... ..........  119M\n",
            "  6350K .......... .......... .......... .......... ..........  146M\n",
            "  6400K .......... .......... .......... .......... ..........  128M\n",
            "  6450K .......... .......... .......... .......... ..........  138M\n",
            "  6500K .......... .......... .......... .......... ..........  119M\n",
            "  6550K .......... .......... .......... .......... ..........  143M\n",
            "  6600K .......... .......... .......... .......... ..........  137M\n",
            "  6650K .......... .......... .......... .......... ..........  143M\n",
            "  6700K .......... .......... .......... .......... ..........  130M\n",
            "  6750K .......... .......... .......... .......... ..........  129M\n",
            "  6800K .......... .......... .......... .......... ..........  146M\n",
            "  6850K .......... .......... .......... .......... ..........  131M\n",
            "  6900K .......... .......... .......... .......... ..........  129M\n",
            "  6950K .......... .......... .......... .......... ..........  129M\n",
            "  7000K .......... .......... .......... .......... ..........  147M\n",
            "  7050K .......... .......... .......... .......... ..........  150M\n",
            "  7100K .......... .......... .......... .......... ..........  120M\n",
            "  7150K .......... .......... .......... .......... ..........  135M\n",
            "  7200K .......... .......... .......... .......... ..........  133M\n",
            "  7250K .......... .......... .......... .......... ..........  143M\n",
            "  7300K .......... .......... .......... .......... ..........  134M\n",
            "  7350K .......... .......... .......... .......... ..........  140M\n",
            "  7400K .......... .......... .......... .......... ..........  135M\n",
            "  7450K .......... .......... .......... .......... ..........  148M\n",
            "  7500K .......... .......... .......... .......... ..........  118M\n",
            "  7550K .......... .......... .......... .......... ..........  132M\n",
            "  7600K .......... .......... .......... .......... ..........  153M\n",
            "  7650K .......... .......... .......... .......... ..........  134M\n",
            "  7700K .......... .......... .......... .......... ..........  111M\n",
            "  7750K .......... .......... .......... .......... ..........  138M\n",
            "  7800K .......... .......... .......... .......... ..........  136M\n",
            "  7850K .......... .......... .......... .......... ..........  149M\n",
            "  7900K .......... .......... .......... .......... ..........  117M\n",
            "  7950K .......... .......... .......... .......... ..........  144M\n",
            "  8000K .......... .......... .......... .......... ..........  136M\n",
            "  8050K .......... .......... .......... .......... .......... 94.7M\n",
            "  8100K .......... .......... .......... .......... ..........  129M\n",
            "  8150K .......... .......... .......... .......... ..........  222M\n",
            "  8200K .......... .......... .......... .......... ..........  259M\n",
            "  8250K .......... .......... .......... .......... ..........  107M\n",
            "  8300K .......... .......... .......... .......... ..........  140M\n",
            "  8350K .......... .......... .......... .......... ..........  144M\n",
            "  8400K .......... .......... .......... .......... ..........  159M\n",
            "  8450K .......... .......... .......... .......... ..........  169M\n",
            "  8500K .......... .......... .......... .......... ..........  109M\n",
            "  8550K .......... .......... .......... .......... ..........  153M\n",
            "  8600K .......... .......... .......... .......... ..........  159M\n",
            "  8650K .......... .......... .......... .......... ..........  154M\n",
            "  8700K .......... .......... .......... .......... ..........  102M\n",
            "  8750K .......... .......... .......... .......... ..........  168M\n",
            "  8800K .......... .......... .......... .......... ..........  153M\n",
            "  8850K .......... .......... .......... .......... .......... 78.1M\n",
            "  8900K .......... .......... .......... .......... ..........  117M\n",
            "  8950K .......... .......... .......... .......... .......... 26.0M\n",
            "  9000K .......... .......... .......... .......... ..........  145M\n",
            "  9050K .......... .......... .......... .......... ..........  135M\n",
            "  9100K .......... .......... .......... .......... ..........  145M\n",
            "  9150K .......... .......... .......... .......... ..........  151M\n",
            "  9200K .......... .......... .......... .......... ..........  163M\n",
            "  9250K .......... .......... .......... .......... ..........  128M\n",
            "  9300K .......... .......... .......... .......... ..........  102M\n",
            "  9350K .......... .......... .......... .......... ..........  139M\n",
            "  9400K .......... .......... .......... .......... ..........  157M\n",
            "  9450K .......... .......... .......... .......... ..........  124M\n",
            "  9500K .......... .......... .......... .......... ..........  125M\n",
            "  9550K .......... .......... .......... .......... ..........  131M\n",
            "  9600K .......... .......... .......... .......... ..........  197M\n",
            "  9650K .......... .......... .......... .......... ..........  154M\n",
            "  9700K .......... .......... .......... .......... ..........  112M\n",
            "  9750K .......... .......... .......... .......... ..........  137M\n",
            "  9800K .......... .......... .......... .......... ..........  125M\n",
            "  9850K .......... .......... .......... .......... ..........  142M\n",
            "  9900K .......... .......... .......... .......... ..........  114M\n",
            "  9950K .......... .......... .......... .......... ..........  135M\n",
            " 10000K .......... .......... .......... .......... ..........  127M\n",
            " 10050K .......... .......... .......... .......... ..........  148M\n",
            " 10100K .......... .......... .......... .......... .......... 97.7M\n",
            " 10150K .......... .......... .......... .......... ..........  143M\n",
            " 10200K .......... .......... .......... .......... ..........  123M\n",
            " 10250K .......... .......... .......... .......... ..........  126M\n",
            " 10300K .......... .......... .......... .......... ..........  124M\n",
            " 10350K .......... .......... .......... .......... ..........  125M\n",
            " 10400K .......... .......... .......... .......... ..........  140M\n",
            " 10450K .......... .......... .......... .......... ..........  155M\n",
            " 10500K .......... .......... .......... .......... ..........  111M\n",
            " 10550K .......... .......... .......... .......... ..........  133M\n",
            " 10600K .......... .......... .......... .......... ..........  136M\n",
            " 10650K .......... .......... .......... .......... ..........  146M\n",
            " 10700K .......... .......... .......... .......... ..........  123M\n",
            " 10750K .......... .......... .......... .......... ..........  136M\n",
            " 10800K .......... .......... .......... .......... ..........  129M\n",
            " 10850K .......... .......... .......... .......... ..........  149M\n",
            " 10900K .......... .......... .......... .......... ..........  121M\n",
            " 10950K .......... .......... .......... .......... ..........  147M\n",
            " 11000K .......... .......... .......... .......... ..........  135M\n",
            " 11050K .......... .......... .......... .......... ..........  136M\n",
            " 11100K .......... .......... .......... .......... ..........  116M\n",
            " 11150K .......... .......... .......... .......... ..........  162M\n",
            " 11200K .......... .......... .......... .......... ..........  127M\n",
            " 11250K .......... .......... .......... .......... ..........  195M\n",
            " 11300K .......... .......... .......... .......... ..........  212M\n",
            " 11350K .......... .......... .......... .......... ..........  166M\n",
            " 11400K .......... .......... .......... .......... ..........  169M\n",
            " 11450K .......... .......... .......... .......... ..........  144M\n",
            " 11500K .......... .......... .......... .......... ..........  152M\n",
            " 11550K .......... .......... .......... .......... ..........  184M\n",
            " 11600K .......... .......... .......... .......... ..........  179M\n",
            " 11650K .......... .......... .......... .......... ..........  272M\n",
            " 11700K .......... .......... .......... .......... ..........  292M\n",
            " 11750K .......... .......... .......... .......... ..........  279M\n",
            " 11800K .......... .......... .......... .......... ..........  336M\n",
            " 11850K .......... .......... .......... .......... ..........  310M\n",
            " 11900K ........                                                184M=0.09s\n",
            "\n",
            "2021-05-24 21:17:44 (123 MB/s) - ‘small_coco.tar.gz’ saved [12194705]\n",
            "\n"
          ],
          "name": "stderr"
        }
      ]
    },
    {
      "cell_type": "code",
      "metadata": {
        "colab": {
          "base_uri": "https://localhost:8080/"
        },
        "id": "nziDGQ7WF6c9",
        "outputId": "a36d3a7d-5e36-4c34-843a-2640cb64bee0"
      },
      "source": [
        "%%bash\n",
        "\n",
        "cat << END > requirements.txt\n",
        "fugashi==1.1.0\n",
        "ipadic==1.0.0\n",
        "pycocotools==2.0.2\n",
        "seaborn==0.11.1\n",
        "transformers==4.6.1\n",
        "omegaconf==2.0.6\n",
        "END\n",
        "\n",
        "pip install -r requirements.txt"
      ],
      "execution_count": null,
      "outputs": [
        {
          "output_type": "stream",
          "text": [
            "Requirement already satisfied: fugashi==1.1.0 in /usr/local/lib/python3.7/dist-packages (from -r requirements.txt (line 1)) (1.1.0)\n",
            "Requirement already satisfied: ipadic==1.0.0 in /usr/local/lib/python3.7/dist-packages (from -r requirements.txt (line 2)) (1.0.0)\n",
            "Requirement already satisfied: pycocotools==2.0.2 in /usr/local/lib/python3.7/dist-packages (from -r requirements.txt (line 3)) (2.0.2)\n",
            "Requirement already satisfied: seaborn==0.11.1 in /usr/local/lib/python3.7/dist-packages (from -r requirements.txt (line 4)) (0.11.1)\n",
            "Requirement already satisfied: transformers==4.6.1 in /usr/local/lib/python3.7/dist-packages (from -r requirements.txt (line 5)) (4.6.1)\n",
            "Collecting omegaconf==2.0.6\n",
            "  Downloading https://files.pythonhosted.org/packages/d0/eb/9d63ce09dd8aa85767c65668d5414958ea29648a0eec80a4a7d311ec2684/omegaconf-2.0.6-py3-none-any.whl\n",
            "Requirement already satisfied: matplotlib>=2.1.0 in /usr/local/lib/python3.7/dist-packages (from pycocotools==2.0.2->-r requirements.txt (line 3)) (3.2.2)\n",
            "Requirement already satisfied: setuptools>=18.0 in /usr/local/lib/python3.7/dist-packages (from pycocotools==2.0.2->-r requirements.txt (line 3)) (56.1.0)\n",
            "Requirement already satisfied: cython>=0.27.3 in /usr/local/lib/python3.7/dist-packages (from pycocotools==2.0.2->-r requirements.txt (line 3)) (0.29.23)\n",
            "Requirement already satisfied: scipy>=1.0 in /usr/local/lib/python3.7/dist-packages (from seaborn==0.11.1->-r requirements.txt (line 4)) (1.4.1)\n",
            "Requirement already satisfied: pandas>=0.23 in /usr/local/lib/python3.7/dist-packages (from seaborn==0.11.1->-r requirements.txt (line 4)) (1.1.5)\n",
            "Requirement already satisfied: numpy>=1.15 in /usr/local/lib/python3.7/dist-packages (from seaborn==0.11.1->-r requirements.txt (line 4)) (1.19.5)\n",
            "Requirement already satisfied: tqdm>=4.27 in /usr/local/lib/python3.7/dist-packages (from transformers==4.6.1->-r requirements.txt (line 5)) (4.41.1)\n",
            "Requirement already satisfied: sacremoses in /usr/local/lib/python3.7/dist-packages (from transformers==4.6.1->-r requirements.txt (line 5)) (0.0.45)\n",
            "Requirement already satisfied: huggingface-hub==0.0.8 in /usr/local/lib/python3.7/dist-packages (from transformers==4.6.1->-r requirements.txt (line 5)) (0.0.8)\n",
            "Requirement already satisfied: packaging in /usr/local/lib/python3.7/dist-packages (from transformers==4.6.1->-r requirements.txt (line 5)) (20.9)\n",
            "Requirement already satisfied: tokenizers<0.11,>=0.10.1 in /usr/local/lib/python3.7/dist-packages (from transformers==4.6.1->-r requirements.txt (line 5)) (0.10.2)\n",
            "Requirement already satisfied: regex!=2019.12.17 in /usr/local/lib/python3.7/dist-packages (from transformers==4.6.1->-r requirements.txt (line 5)) (2019.12.20)\n",
            "Requirement already satisfied: importlib-metadata; python_version < \"3.8\" in /usr/local/lib/python3.7/dist-packages (from transformers==4.6.1->-r requirements.txt (line 5)) (4.0.1)\n",
            "Requirement already satisfied: requests in /usr/local/lib/python3.7/dist-packages (from transformers==4.6.1->-r requirements.txt (line 5)) (2.23.0)\n",
            "Requirement already satisfied: filelock in /usr/local/lib/python3.7/dist-packages (from transformers==4.6.1->-r requirements.txt (line 5)) (3.0.12)\n",
            "Requirement already satisfied: typing-extensions in /usr/local/lib/python3.7/dist-packages (from omegaconf==2.0.6->-r requirements.txt (line 6)) (3.7.4.3)\n",
            "Collecting PyYAML>=5.1.*\n",
            "  Downloading https://files.pythonhosted.org/packages/7a/a5/393c087efdc78091afa2af9f1378762f9821c9c1d7a22c5753fb5ac5f97a/PyYAML-5.4.1-cp37-cp37m-manylinux1_x86_64.whl (636kB)\n",
            "Requirement already satisfied: cycler>=0.10 in /usr/local/lib/python3.7/dist-packages (from matplotlib>=2.1.0->pycocotools==2.0.2->-r requirements.txt (line 3)) (0.10.0)\n",
            "Requirement already satisfied: kiwisolver>=1.0.1 in /usr/local/lib/python3.7/dist-packages (from matplotlib>=2.1.0->pycocotools==2.0.2->-r requirements.txt (line 3)) (1.3.1)\n",
            "Requirement already satisfied: python-dateutil>=2.1 in /usr/local/lib/python3.7/dist-packages (from matplotlib>=2.1.0->pycocotools==2.0.2->-r requirements.txt (line 3)) (2.8.1)\n",
            "Requirement already satisfied: pyparsing!=2.0.4,!=2.1.2,!=2.1.6,>=2.0.1 in /usr/local/lib/python3.7/dist-packages (from matplotlib>=2.1.0->pycocotools==2.0.2->-r requirements.txt (line 3)) (2.4.7)\n",
            "Requirement already satisfied: pytz>=2017.2 in /usr/local/lib/python3.7/dist-packages (from pandas>=0.23->seaborn==0.11.1->-r requirements.txt (line 4)) (2018.9)\n",
            "Requirement already satisfied: joblib in /usr/local/lib/python3.7/dist-packages (from sacremoses->transformers==4.6.1->-r requirements.txt (line 5)) (1.0.1)\n",
            "Requirement already satisfied: click in /usr/local/lib/python3.7/dist-packages (from sacremoses->transformers==4.6.1->-r requirements.txt (line 5)) (8.0.0)\n",
            "Requirement already satisfied: six in /usr/local/lib/python3.7/dist-packages (from sacremoses->transformers==4.6.1->-r requirements.txt (line 5)) (1.15.0)\n",
            "Requirement already satisfied: zipp>=0.5 in /usr/local/lib/python3.7/dist-packages (from importlib-metadata; python_version < \"3.8\"->transformers==4.6.1->-r requirements.txt (line 5)) (3.4.1)\n",
            "Requirement already satisfied: idna<3,>=2.5 in /usr/local/lib/python3.7/dist-packages (from requests->transformers==4.6.1->-r requirements.txt (line 5)) (2.10)\n",
            "Requirement already satisfied: chardet<4,>=3.0.2 in /usr/local/lib/python3.7/dist-packages (from requests->transformers==4.6.1->-r requirements.txt (line 5)) (3.0.4)\n",
            "Requirement already satisfied: certifi>=2017.4.17 in /usr/local/lib/python3.7/dist-packages (from requests->transformers==4.6.1->-r requirements.txt (line 5)) (2020.12.5)\n",
            "Requirement already satisfied: urllib3!=1.25.0,!=1.25.1,<1.26,>=1.21.1 in /usr/local/lib/python3.7/dist-packages (from requests->transformers==4.6.1->-r requirements.txt (line 5)) (1.24.3)\n",
            "Installing collected packages: PyYAML, omegaconf\n",
            "  Found existing installation: PyYAML 3.13\n",
            "    Uninstalling PyYAML-3.13:\n",
            "      Successfully uninstalled PyYAML-3.13\n",
            "Successfully installed PyYAML-5.4.1 omegaconf-2.0.6\n"
          ],
          "name": "stdout"
        }
      ]
    },
    {
      "cell_type": "code",
      "metadata": {
        "id": "naDSvtUrGJw2"
      },
      "source": [
        "import os\n",
        "import sys\n",
        "import json\n",
        "import logging\n",
        "import random\n",
        "import requests\n",
        "from glob import glob\n",
        "from typing import List, Dict\n",
        "from pprint import pformat, pprint\n",
        "from collections import Counter, defaultdict\n",
        "\n",
        "from PIL import Image\n",
        "\n",
        "import numpy as np\n",
        "import pandas as pd\n",
        "import seaborn as sns\n",
        "import matplotlib as mpl\n",
        "import matplotlib.pyplot as plt\n",
        "\n",
        "\n",
        "logging.basicConfig(\n",
        "    format='%(asctime)s #%(lineno)s %(levelname)s %(name)s :::  %(message)s',\n",
        "    datefmt='%Y-%m-%d %H:%M:%S',\n",
        "    level=logging.INFO,\n",
        "    stream=sys.stdout,\n",
        ")\n",
        "logger = logging.getLogger(__name__)\n",
        "\n",
        "\n",
        "RED = '\\033[31m'\n",
        "GREEN = '\\033[32m'\n",
        "YELLOW = '\\033[33m'\n",
        "BLUE = '\\033[34m'\n",
        "END = '\\033[0m'"
      ],
      "execution_count": null,
      "outputs": []
    },
    {
      "cell_type": "markdown",
      "metadata": {
        "id": "A1znM4pE19Q6"
      },
      "source": [
        "## トークナイザ\n",
        "- transformers の Tokenizer を使用します\n",
        "  - [BertJapaneseTokenizer](https://huggingface.co/transformers/model_doc/bert_japanese.html#bertjapanesetokenizer)\n",
        "  - [BertTokenizer](https://huggingface.co/transformers/model_doc/bert.html#berttokenizer)"
      ]
    },
    {
      "cell_type": "code",
      "metadata": {
        "colab": {
          "base_uri": "https://localhost:8080/"
        },
        "id": "kH1lJpJpHX7O",
        "outputId": "7c70561e-15f8-4a88-f260-335a7043f1aa"
      },
      "source": [
        "import torch\n",
        "from transformers import AutoModel, AutoTokenizer, BertJapaneseTokenizer\n",
        "\n",
        "\n",
        "class MyTokenizer(object):\n",
        "    def __init__(self, model='cl-tohoku/bert-base-japanese-whole-word-masking', max_len=256):\n",
        "        self.name = model\n",
        "        self.max_length = max_len\n",
        "\n",
        "    @property\n",
        "    def tokenizer(self):\n",
        "        if 'japanese' in self.name:\n",
        "            from transformers import BertJapaneseTokenizer\n",
        "            return BertJapaneseTokenizer.from_pretrained(self.name)\n",
        "        elif 'bert' in self.name:\n",
        "            from transformers import BertTokenizer\n",
        "            return BertTokenizer.from_pretrained(self.name)\n",
        "        # else:\n",
        "\n",
        "    def tokenize(self, sentence:str):\n",
        "        return self.tokenizer(\n",
        "            sentence,\n",
        "            max_length = self.max_length,\n",
        "            truncation = True,\n",
        "            padding = True,\n",
        "            return_tensors = \"pt\",\n",
        "        )\n",
        "\n",
        "    def decode(self, input_ids:torch.tensor):\n",
        "        return self.tokenizer.decode(input_ids)\n",
        "\n",
        "\n",
        "if __name__ == '__main__':\n",
        "    tokenizer = MyTokenizer()\n",
        "    inputs = tokenizer.tokenize('今日はいい天気ですね')\n",
        "    pprint(inputs)\n",
        "    print(tokenizer.decode(inputs['input_ids'][0]))\n",
        "\n",
        "    tokenizer = MyTokenizer(model='bert-base-uncased')\n",
        "    inputs = tokenizer.tokenize('Time flies like an arrow.')\n",
        "    pprint(inputs)\n",
        "    print(tokenizer.decode(inputs['input_ids'][0]))"
      ],
      "execution_count": null,
      "outputs": [
        {
          "output_type": "stream",
          "text": [
            "{'attention_mask': tensor([[1, 1, 1, 1, 1, 1, 1, 1]]),\n",
            " 'input_ids': tensor([[    2,  3246,     9,  2575, 11385,  2992,  1852,     3]]),\n",
            " 'token_type_ids': tensor([[0, 0, 0, 0, 0, 0, 0, 0]])}\n",
            "[CLS] 今日 は いい 天気 です ね [SEP]\n",
            "{'attention_mask': tensor([[1, 1, 1, 1, 1, 1, 1, 1]]),\n",
            " 'input_ids': tensor([[  101,  2051, 10029,  2066,  2019,  8612,  1012,   102]]),\n",
            " 'token_type_ids': tensor([[0, 0, 0, 0, 0, 0, 0, 0]])}\n",
            "[CLS] time flies like an arrow. [SEP]\n"
          ],
          "name": "stdout"
        }
      ]
    },
    {
      "cell_type": "markdown",
      "metadata": {
        "id": "shGzQHn1Wd5c"
      },
      "source": [
        "## データ\n",
        "\n",
        "- Transforms\n",
        "  - https://pytorch.org/vision/stable/transforms.html#transforms-on-pil-image-and-torch-tensor\n",
        "  - [transforms](https://pystyle.info/pytorch-list-of-transforms/#outline__5_6) についてはこちらが分かりやすい\n",
        "\n",
        "- 使用するデータセット\n",
        "  - 画像 ... [MS-COCO 2014](https://cocodataset.org/#download)\n",
        "    - https://pytorch.org/vision/stable/datasets.html#coco\n",
        "  - キャプション\n",
        "    - 日本語 ... [STAIR Captions](https://github.com/STAIR-Lab-CIT/STAIR-captions) (MS-COCO 2014 に対して日本語でアノテーション)\n",
        "    - 英語 ... MS-COCO 2014 で提供されているキャプション"
      ]
    },
    {
      "cell_type": "markdown",
      "metadata": {
        "id": "LEoh1wVez-fq"
      },
      "source": [
        "### Dataset"
      ]
    },
    {
      "cell_type": "code",
      "metadata": {
        "colab": {
          "base_uri": "https://localhost:8080/"
        },
        "id": "_B3OL5fHW4xc",
        "outputId": "91117ab3-4aea-40b5-aa63-791b3eb84a2e"
      },
      "source": [
        "import torch\n",
        "from torch.utils.data import Dataset\n",
        "from torchvision import transforms\n",
        "from torchvision.datasets import CocoCaptions\n",
        "\n",
        "class MyDataset(Dataset):\n",
        "    def __init__(self, caption='stair'):\n",
        "        self.dataset = CocoCaptions(\n",
        "            root = 'datasets/images',\n",
        "            annFile = f'datasets/captions/{caption}_small.json',\n",
        "            transform = self.transform_fn,\n",
        "            target_transform = lambda x: random.choice(x),\n",
        "        )\n",
        "\n",
        "    def __len__(self):\n",
        "        return len(self.dataset)\n",
        "\n",
        "    def __getitem__(self, idx):\n",
        "        image, caption = self.dataset[idx]\n",
        "        return image, caption\n",
        "\n",
        "    @property\n",
        "    def transform_fn(self):  # 入力画像の処理\n",
        "        return transforms.Compose([\n",
        "            transforms.Resize((256, 256)),\n",
        "            transforms.RandomCrop(224),\n",
        "            transforms.RandomHorizontalFlip(), \n",
        "            transforms.ToTensor(), \n",
        "            transforms.Normalize((.485, .456, .406), (.229, .224, .225))\n",
        "        ])\n",
        "\n",
        "\n",
        "if __name__ == '__main__':\n",
        "    dataset = MyDataset(caption='stair')\n",
        "    image, caption = dataset[0]\n",
        "    print('| caption ... ', caption)\n",
        "    print('| image size ... ', image.size())"
      ],
      "execution_count": null,
      "outputs": [
        {
          "output_type": "stream",
          "text": [
            "loading annotations into memory...\n",
            "Done (t=0.00s)\n",
            "creating index...\n",
            "index created!\n",
            "| caption ...  水色の機体の飛行機が停まっている\n",
            "| image size ...  torch.Size([3, 224, 224])\n"
          ],
          "name": "stdout"
        }
      ]
    },
    {
      "cell_type": "markdown",
      "metadata": {
        "id": "qu9Ovrlp0AE3"
      },
      "source": [
        "### DataLoader\n",
        "- ミニバッチごとに dataset からデータを取り出すための `__iter__` メソッドを保持"
      ]
    },
    {
      "cell_type": "code",
      "metadata": {
        "colab": {
          "base_uri": "https://localhost:8080/"
        },
        "id": "2qjLp_XQbdMa",
        "outputId": "97c87a8d-de9b-423f-f01d-91c05bb15148"
      },
      "source": [
        "import torch\n",
        "from torch.utils.data import DataLoader\n",
        "\n",
        "class MyLoader(DataLoader):\n",
        "    def __init__(self, dataset, tokenizer, **kwargs):\n",
        "        super().__init__(dataset, **kwargs)\n",
        "        self.tokenizer = tokenizer\n",
        "        self.collate_fn = self._collate_fn\n",
        "    \n",
        "    def _collate_fn(self, batch):\n",
        "            batch.sort(key=lambda x: len(x[1]), reverse=True)        # キャプションの系列長でソート\n",
        "            images, captions = zip(*batch)\n",
        "            images = torch.stack(images, 0)                          # 画像\n",
        "            captions = self.tokenizer.tokenize(captions)['input_ids']\n",
        "            lengths = [len(cap) for cap in captions]                  # キャプションの系列長 \n",
        "            targets = torch.zeros(len(captions), max(lengths)).long() # キャプション \n",
        "            for i, cap in enumerate(captions):\n",
        "                end = lengths[i]\n",
        "                targets[i, :end] = cap[:end]\n",
        "            return images, targets, lengths\n",
        "\n",
        "\n",
        "if __name__ == '__main__':\n",
        "    dataloader = MyLoader(\n",
        "        dataset = MyDataset(caption='stair'),\n",
        "        tokenizer = MyTokenizer(model='cl-tohoku/bert-base-japanese-whole-word-masking'),\n",
        "        batch_size = 4,\n",
        "        shuffle = True,\n",
        "    )\n",
        "\n",
        "    for batch in dataloader:\n",
        "        images, targets, lengths = batch\n",
        "        print(images.size(), targets.size(), lengths)\n",
        "        break"
      ],
      "execution_count": null,
      "outputs": [
        {
          "output_type": "stream",
          "text": [
            "loading annotations into memory...\n",
            "Done (t=0.00s)\n",
            "creating index...\n",
            "index created!\n",
            "torch.Size([4, 3, 224, 224]) torch.Size([4, 16]) [16, 16, 16, 16]\n"
          ],
          "name": "stdout"
        }
      ]
    },
    {
      "cell_type": "markdown",
      "metadata": {
        "id": "MDjThz7lodXs"
      },
      "source": [
        "## モデル"
      ]
    },
    {
      "cell_type": "markdown",
      "metadata": {
        "id": "wRukxeDLogGr"
      },
      "source": [
        "### Image Encoder\n",
        "- ResNet (CNN-based) を使用"
      ]
    },
    {
      "cell_type": "code",
      "metadata": {
        "id": "xe4_8thln-Hs"
      },
      "source": [
        "import torch\n",
        "import torch.nn as nn\n",
        "from torchvision import models\n",
        "\n",
        "class ImageEncoder(nn.Module):\n",
        "    def __init__(self, dim_eh=512):\n",
        "        super().__init__()\n",
        "        resnet = models.resnet152(pretrained=True)            # ResNet-152 のロード\n",
        "        dim_i = resnet.fc.in_features\n",
        "        self.resnet = nn.Sequential(*list(resnet.children())[:-1])  # 最終FC層を削除\n",
        "        self.linear = nn.Linear(dim_i, dim_eh)\n",
        "        self.bn = nn.BatchNorm1d(dim_eh, momentum=0.01)\n",
        "        \n",
        "    def forward(self, images):\n",
        "        with torch.no_grad():\n",
        "            features = self.resnet(images)\n",
        "        features = features.reshape(features.size(0), -1)\n",
        "        features = self.bn(self.linear(features))\n",
        "        return features"
      ],
      "execution_count": null,
      "outputs": []
    },
    {
      "cell_type": "markdown",
      "metadata": {
        "id": "8wPUrhl2oi4z"
      },
      "source": [
        "### Text Decoder\n",
        "- TextEncoder に [BertModel](https://huggingface.co/transformers/model_doc/bert.html#bertmodel) を使用する"
      ]
    },
    {
      "cell_type": "code",
      "metadata": {
        "colab": {
          "base_uri": "https://localhost:8080/"
        },
        "id": "53Imavo9vxXA",
        "outputId": "5fbc685f-9754-482c-af1f-a3f7c6b471ab"
      },
      "source": [
        "from transformers import BertModel\n",
        "\n",
        "class TextEncoder(nn.Module):\n",
        "    def __init__(self, dim_eh=512, model='cl-tohoku/bert-base-japanese-v2'):\n",
        "        super().__init__()\n",
        "        self.name = model\n",
        "        self.model = BertModel.from_pretrained(self.name)\n",
        "        self.linear = nn.Linear(self.model.pooler.dense.out_features, dim_eh)\n",
        "        self.vocab_size = self.model.config.vocab_size\n",
        "        for param in self.model.parameters():\n",
        "            param.requires_grad = False\n",
        "    \n",
        "    def forward(self, input_ids):\n",
        "        outputs = self.model(input_ids=input_ids)\n",
        "        return self.linear(outputs.last_hidden_state)\n",
        "        # return self.linear(outputs.pooler_output)\n",
        "\n",
        "\n",
        "if __name__ == '__main__':\n",
        "    encoder = TextEncoder()\n",
        "    tokenizer = MyTokenizer()\n",
        "\n",
        "    inputs = tokenizer.tokenize('我輩は猫である')\n",
        "    outputs = encoder(inputs['input_ids'])"
      ],
      "execution_count": null,
      "outputs": [
        {
          "output_type": "stream",
          "text": [
            "Some weights of the model checkpoint at cl-tohoku/bert-base-japanese-v2 were not used when initializing BertModel: ['cls.predictions.transform.dense.bias', 'cls.predictions.decoder.bias', 'cls.predictions.transform.dense.weight', 'cls.seq_relationship.weight', 'cls.predictions.bias', 'cls.predictions.transform.LayerNorm.weight', 'cls.predictions.decoder.weight', 'cls.seq_relationship.bias', 'cls.predictions.transform.LayerNorm.bias']\n",
            "- This IS expected if you are initializing BertModel from the checkpoint of a model trained on another task or with another architecture (e.g. initializing a BertForSequenceClassification model from a BertForPreTraining model).\n",
            "- This IS NOT expected if you are initializing BertModel from the checkpoint of a model that you expect to be exactly identical (initializing a BertForSequenceClassification model from a BertForSequenceClassification model).\n"
          ],
          "name": "stderr"
        }
      ]
    },
    {
      "cell_type": "code",
      "metadata": {
        "id": "mtbL4b0tokW_"
      },
      "source": [
        "from torch.nn.utils.rnn import pack_padded_sequence\n",
        "\n",
        "class TextDecoder(nn.Module):\n",
        "    def __init__(self, dim_eh=512, dim_dh=512, num_layers=2, max_seq_length=256, bert_cfg='cl-tohoku/bert-base-japanese-v2'):\n",
        "        super().__init__()\n",
        "        # self.txt_enc = TextEncoder(dim_eh=dim_eh, model=bert_cfg)\n",
        "        # self.embed = nn.Embedding(self.txt_enc.vocab_size, dim_eh)\n",
        "        self.lstm = nn.LSTM(dim_eh, dim_dh, num_layers, batch_first=True)\n",
        "        self.linear = nn.Linear(dim_dh, self.txt_enc.vocab_size)\n",
        "        self.max_seg_length = max_seq_length\n",
        "        \n",
        "    def forward(self, features, captions, lengths):\n",
        "        # embeddings = self.embed(captions)\n",
        "        embeddings = self.txt_enc(input_ids=captions)           # なくて良いのでは？ という気持ち\n",
        "        embeddings = torch.cat((features.unsqueeze(1), embeddings), 1)\n",
        "        \n",
        "        packed = pack_padded_sequence(embeddings, lengths, batch_first=True)\n",
        "        hiddens, _ = self.lstm(packed)\n",
        "        outputs = self.linear(hiddens[0])\n",
        "        return outputs\n",
        "    \n",
        "    def sample(self, features, states=None):  # 推論時（greedy）\n",
        "        sampled_ids = []\n",
        "        inputs = features.unsqueeze(1)\n",
        "        for i in range(self.max_seg_length):\n",
        "            hiddens, states = self.lstm(inputs, states)\n",
        "            outputs = self.linear(hiddens.squeeze(1))     # outputs:  (batch_size, vocab_size)\n",
        "            _, predicted = outputs.max(1)               # ボキャブラリから最大スコアのトークンを一つ選択\n",
        "            sampled_ids.append(predicted)\n",
        "            inputs = self.embed(predicted)               # 予測したトークンを再度 LSTM へ入力するための処理\n",
        "            inputs = inputs.unsqueeze(1)\n",
        "        sampled_ids = torch.stack(sampled_ids, 1)       # sampled_ids: (batch_size, max_seq_length)\n",
        "        return sampled_ids"
      ],
      "execution_count": null,
      "outputs": []
    },
    {
      "cell_type": "markdown",
      "metadata": {
        "id": "M9Nm0RblzYGV"
      },
      "source": [
        "## 訓練"
      ]
    },
    {
      "cell_type": "code",
      "metadata": {
        "colab": {
          "base_uri": "https://localhost:8080/"
        },
        "id": "ZztFR0gWzOdR",
        "outputId": "26138685-128e-4fdf-a78d-95093d3cd932"
      },
      "source": [
        "DEVICE = torch.device('cuda' if torch.cuda.is_available() else 'cpu')\n",
        "\n",
        "# ロス関数\n",
        "criterion = nn.CrossEntropyLoss()\n",
        "\n",
        "# 最適化\n",
        "params = list(decoder.parameters()) + list(encoder.linear.parameters()) + list(encoder.bn.parameters())\n",
        "optimizer = torch.optim.Adam(params, lr=0.001)\n",
        "\n",
        "# トークナイザ\n",
        "tokenizer = Tokenizer(model='cl-tohoku/bert-base-japanese-whole-word-masking', max_len=256)\n",
        "\n",
        "# データ\n",
        "dataset = MyDataset(caption='stair')\n",
        "train_loader = MyLoader(\n",
        "    dataset = dataset,\n",
        "    tokenizer = tokenizer,\n",
        "    batch_size = 32,\n",
        "    shuffle = True,\n",
        ")\n",
        "\n",
        "# モデル\n",
        "encoder = ImageEncoder(dim_eh=512)\n",
        "decoder = TextDecoder(dim_eh=512, dim_dh=512)\n",
        "encoder.to(DEVICE)\n",
        "decoder.to(DEVICE)\n",
        "\n",
        "print()"
      ],
      "execution_count": null,
      "outputs": [
        {
          "output_type": "stream",
          "text": [
            "loading annotations into memory...\n",
            "Done (t=0.01s)\n",
            "creating index...\n",
            "index created!\n"
          ],
          "name": "stdout"
        }
      ]
    },
    {
      "cell_type": "markdown",
      "metadata": {
        "id": "MnuT0Pxh47Sl"
      },
      "source": [
        "### Main\n",
        "- NOTE: うまく学習するためのデータ数がないため、あくまで動作確認"
      ]
    },
    {
      "cell_type": "code",
      "metadata": {
        "colab": {
          "base_uri": "https://localhost:8080/"
        },
        "id": "HlDEmI8L3NgS",
        "outputId": "5b23a8b8-8ed8-4d47-e033-61d49000c5c1"
      },
      "source": [
        "dir_model = 'models'\n",
        "os.makedirs(dir_model, exist_ok=True)\n",
        "\n",
        "for ep in range(2):\n",
        "    for i, (images, captions, lengths) in enumerate(train_loader):\n",
        "        images = images.to(DEVICE)\n",
        "        captions = captions.to(DEVICE)\n",
        "        targets = pack_padded_sequence(captions, lengths, batch_first=True)[0]\n",
        "        \n",
        "        features = encoder(images)\n",
        "        outputs = decoder(features, captions, lengths)\n",
        "        assert outputs.size()[0] == targets.size()[0]\n",
        "        loss = criterion(outputs, targets)\n",
        "        decoder.zero_grad()\n",
        "        encoder.zero_grad()\n",
        "        loss.backward()\n",
        "        optimizer.step()\n",
        "\n",
        "        if i % 50 == 0:\n",
        "            logger.info(f'Ep.[{ep}] - {i}: Loss={round(loss.item(), 4)}, Perplexity: {round(np.exp(loss.item()), 4)}')\n",
        "            \n",
        "        # Save the model checkpoints\n",
        "        if (i+1) % 500 == 0:\n",
        "            torch.save(decoder.state_dict(), os.path.join(dir_model, f'decoder.ckpt'))\n",
        "            torch.save(encoder.state_dict(), os.path.join(dir_model, f'encoder.ckpt'))\n",
        "            logger.info(GREEN + f'| WRITE ... {dir_model}/**coder.ckpt' + END)"
      ],
      "execution_count": null,
      "outputs": [
        {
          "output_type": "stream",
          "text": [
            "2021-05-25 01:33:58 #20 INFO __main__ :::  Ep.[0] - 0: Loss=10.3779, Perplexity: 32139.8037\n",
            "2021-05-25 01:34:03 #20 INFO __main__ :::  Ep.[1] - 0: Loss=10.3847, Perplexity: 32359.7992\n"
          ],
          "name": "stdout"
        }
      ]
    },
    {
      "cell_type": "markdown",
      "metadata": {
        "id": "nRVpTeh-KnPI"
      },
      "source": [
        "# 実際に日本語のキャプション生成を行ってみる\n",
        "- 以前作成したキャプション生成モデルをロード\n",
        "  - https://github.com/smiyawaki0820/ImageCaptionning\n",
        "- 本セクションから開始してもエラーは起きない（多分）"
      ]
    },
    {
      "cell_type": "code",
      "metadata": {
        "colab": {
          "base_uri": "https://localhost:8080/"
        },
        "id": "6uTpwKUj-t5y",
        "outputId": "93dbe79d-c84a-4e9b-90a1-3634a4b5f7cd"
      },
      "source": [
        "%%bash\n",
        "\n",
        "curl -sc /tmp/cookie \"https://drive.google.com/uc?export=download&id=1rMeZUo1keti2LwOkj-9tzqQhbPbtHmX4\" > /dev/null\n",
        "CODE=\"$(awk '/_warning_/ {print $NF}' /tmp/cookie)\"  \n",
        "\n",
        "echo $CODE"
      ],
      "execution_count": null,
      "outputs": [
        {
          "output_type": "stream",
          "text": [
            "6Sn9\n"
          ],
          "name": "stdout"
        }
      ]
    },
    {
      "cell_type": "code",
      "metadata": {
        "id": "xZfSGnNzHbyw",
        "colab": {
          "base_uri": "https://localhost:8080/"
        },
        "outputId": "ec369217-d57e-47da-b243-4d5386f8a628"
      },
      "source": [
        "%%bash\n",
        "\n",
        "# モデルのロード\n",
        "rm -rf models\n",
        "mkdir -p models\n",
        "\n",
        "curl -sc /tmp/cookie \"https://drive.google.com/uc?export=download&id=1rMeZUo1keti2LwOkj-9tzqQhbPbtHmX4\" > /dev/null\n",
        "CODE=\"$(awk '/_warning_/ {print $NF}' /tmp/cookie)\"\n",
        "curl -Lb /tmp/cookie \"https://drive.google.com/uc?export=download&confirm=${CODE}&id=1rMeZUo1keti2LwOkj-9tzqQhbPbtHmX4\" -o models/encoder.ckpt\n",
        "\n",
        "curl -sc /tmp/cookie \"https://drive.google.com/uc?export=download&id=1Hbcs6xyfwhbYpyvdKZRHgh9qC0D7KT_R\" > /dev/null\n",
        "CODE=\"$(awk '/_warning_/ {print $NF}' /tmp/cookie)\"\n",
        "curl -Lb /tmp/cookie \"https://drive.google.com/uc?export=download&confirm=${CODE}&id=1Hbcs6xyfwhbYpyvdKZRHgh9qC0D7KT_R\" -o models/decoder.ckpt\n",
        "\n",
        "du -h models\n",
        "\n",
        "\n",
        "# 実験設定のファイル\n",
        "wget -nc \"https://drive.google.com/uc?export=download&id=1CGH7hMf9TjZxT6X3hkIexQnp3NLO5c85\" -O config.yml\n",
        "\n",
        "# 環境\n",
        "cat << END > requirements.txt\n",
        "fugashi==1.1.0\n",
        "ipadic==1.0.0\n",
        "pycocotools==2.0.2\n",
        "seaborn==0.11.1\n",
        "transformers==4.6.1\n",
        "omegaconf==2.0.6\n",
        "END\n",
        "\n",
        "pip install -r requirements.txt"
      ],
      "execution_count": null,
      "outputs": [
        {
          "output_type": "stream",
          "text": [
            "254M\tmodels\n",
            "Requirement already satisfied: fugashi==1.1.0 in /usr/local/lib/python3.7/dist-packages (from -r requirements.txt (line 1)) (1.1.0)\n",
            "Requirement already satisfied: ipadic==1.0.0 in /usr/local/lib/python3.7/dist-packages (from -r requirements.txt (line 2)) (1.0.0)\n",
            "Requirement already satisfied: pycocotools==2.0.2 in /usr/local/lib/python3.7/dist-packages (from -r requirements.txt (line 3)) (2.0.2)\n",
            "Requirement already satisfied: seaborn==0.11.1 in /usr/local/lib/python3.7/dist-packages (from -r requirements.txt (line 4)) (0.11.1)\n",
            "Requirement already satisfied: transformers==4.6.1 in /usr/local/lib/python3.7/dist-packages (from -r requirements.txt (line 5)) (4.6.1)\n",
            "Requirement already satisfied: omegaconf==2.0.6 in /usr/local/lib/python3.7/dist-packages (from -r requirements.txt (line 6)) (2.0.6)\n",
            "Requirement already satisfied: matplotlib>=2.1.0 in /usr/local/lib/python3.7/dist-packages (from pycocotools==2.0.2->-r requirements.txt (line 3)) (3.2.2)\n",
            "Requirement already satisfied: cython>=0.27.3 in /usr/local/lib/python3.7/dist-packages (from pycocotools==2.0.2->-r requirements.txt (line 3)) (0.29.23)\n",
            "Requirement already satisfied: setuptools>=18.0 in /usr/local/lib/python3.7/dist-packages (from pycocotools==2.0.2->-r requirements.txt (line 3)) (56.1.0)\n",
            "Requirement already satisfied: scipy>=1.0 in /usr/local/lib/python3.7/dist-packages (from seaborn==0.11.1->-r requirements.txt (line 4)) (1.4.1)\n",
            "Requirement already satisfied: numpy>=1.15 in /usr/local/lib/python3.7/dist-packages (from seaborn==0.11.1->-r requirements.txt (line 4)) (1.19.5)\n",
            "Requirement already satisfied: pandas>=0.23 in /usr/local/lib/python3.7/dist-packages (from seaborn==0.11.1->-r requirements.txt (line 4)) (1.1.5)\n",
            "Requirement already satisfied: requests in /usr/local/lib/python3.7/dist-packages (from transformers==4.6.1->-r requirements.txt (line 5)) (2.23.0)\n",
            "Requirement already satisfied: packaging in /usr/local/lib/python3.7/dist-packages (from transformers==4.6.1->-r requirements.txt (line 5)) (20.9)\n",
            "Requirement already satisfied: tqdm>=4.27 in /usr/local/lib/python3.7/dist-packages (from transformers==4.6.1->-r requirements.txt (line 5)) (4.41.1)\n",
            "Requirement already satisfied: huggingface-hub==0.0.8 in /usr/local/lib/python3.7/dist-packages (from transformers==4.6.1->-r requirements.txt (line 5)) (0.0.8)\n",
            "Requirement already satisfied: regex!=2019.12.17 in /usr/local/lib/python3.7/dist-packages (from transformers==4.6.1->-r requirements.txt (line 5)) (2019.12.20)\n",
            "Requirement already satisfied: sacremoses in /usr/local/lib/python3.7/dist-packages (from transformers==4.6.1->-r requirements.txt (line 5)) (0.0.45)\n",
            "Requirement already satisfied: tokenizers<0.11,>=0.10.1 in /usr/local/lib/python3.7/dist-packages (from transformers==4.6.1->-r requirements.txt (line 5)) (0.10.3)\n",
            "Requirement already satisfied: filelock in /usr/local/lib/python3.7/dist-packages (from transformers==4.6.1->-r requirements.txt (line 5)) (3.0.12)\n",
            "Requirement already satisfied: importlib-metadata; python_version < \"3.8\" in /usr/local/lib/python3.7/dist-packages (from transformers==4.6.1->-r requirements.txt (line 5)) (4.0.1)\n",
            "Requirement already satisfied: PyYAML>=5.1.* in /usr/local/lib/python3.7/dist-packages (from omegaconf==2.0.6->-r requirements.txt (line 6)) (5.4.1)\n",
            "Requirement already satisfied: typing-extensions in /usr/local/lib/python3.7/dist-packages (from omegaconf==2.0.6->-r requirements.txt (line 6)) (3.7.4.3)\n",
            "Requirement already satisfied: cycler>=0.10 in /usr/local/lib/python3.7/dist-packages (from matplotlib>=2.1.0->pycocotools==2.0.2->-r requirements.txt (line 3)) (0.10.0)\n",
            "Requirement already satisfied: pyparsing!=2.0.4,!=2.1.2,!=2.1.6,>=2.0.1 in /usr/local/lib/python3.7/dist-packages (from matplotlib>=2.1.0->pycocotools==2.0.2->-r requirements.txt (line 3)) (2.4.7)\n",
            "Requirement already satisfied: python-dateutil>=2.1 in /usr/local/lib/python3.7/dist-packages (from matplotlib>=2.1.0->pycocotools==2.0.2->-r requirements.txt (line 3)) (2.8.1)\n",
            "Requirement already satisfied: kiwisolver>=1.0.1 in /usr/local/lib/python3.7/dist-packages (from matplotlib>=2.1.0->pycocotools==2.0.2->-r requirements.txt (line 3)) (1.3.1)\n",
            "Requirement already satisfied: pytz>=2017.2 in /usr/local/lib/python3.7/dist-packages (from pandas>=0.23->seaborn==0.11.1->-r requirements.txt (line 4)) (2018.9)\n",
            "Requirement already satisfied: urllib3!=1.25.0,!=1.25.1,<1.26,>=1.21.1 in /usr/local/lib/python3.7/dist-packages (from requests->transformers==4.6.1->-r requirements.txt (line 5)) (1.24.3)\n",
            "Requirement already satisfied: certifi>=2017.4.17 in /usr/local/lib/python3.7/dist-packages (from requests->transformers==4.6.1->-r requirements.txt (line 5)) (2020.12.5)\n",
            "Requirement already satisfied: idna<3,>=2.5 in /usr/local/lib/python3.7/dist-packages (from requests->transformers==4.6.1->-r requirements.txt (line 5)) (2.10)\n",
            "Requirement already satisfied: chardet<4,>=3.0.2 in /usr/local/lib/python3.7/dist-packages (from requests->transformers==4.6.1->-r requirements.txt (line 5)) (3.0.4)\n",
            "Requirement already satisfied: joblib in /usr/local/lib/python3.7/dist-packages (from sacremoses->transformers==4.6.1->-r requirements.txt (line 5)) (1.0.1)\n",
            "Requirement already satisfied: click in /usr/local/lib/python3.7/dist-packages (from sacremoses->transformers==4.6.1->-r requirements.txt (line 5)) (8.0.0)\n",
            "Requirement already satisfied: six in /usr/local/lib/python3.7/dist-packages (from sacremoses->transformers==4.6.1->-r requirements.txt (line 5)) (1.15.0)\n",
            "Requirement already satisfied: zipp>=0.5 in /usr/local/lib/python3.7/dist-packages (from importlib-metadata; python_version < \"3.8\"->transformers==4.6.1->-r requirements.txt (line 5)) (3.4.1)\n"
          ],
          "name": "stdout"
        },
        {
          "output_type": "stream",
          "text": [
            "  % Total    % Received % Xferd  Average Speed   Time    Time     Time  Current\n",
            "                                 Dload  Upload   Total   Spent    Left  Speed\n",
            "\r  0     0    0     0    0     0      0      0 --:--:-- --:--:-- --:--:--     0\r100   408    0   408    0     0   3743      0 --:--:-- --:--:-- --:--:--  3709\r100   408    0   408    0     0   3743      0 --:--:-- --:--:-- --:--:--  3709\n",
            "\r  0     0    0     0    0     0      0      0 --:--:-- --:--:-- --:--:--     0\n",
            "\r  0     0    0     0    0     0      0      0 --:--:-- --:--:-- --:--:--     0\n",
            "\r100 82.3M    0 82.3M    0     0  98.9M      0 --:--:-- --:--:-- --:--:-- 98.9M\n",
            "  % Total    % Received % Xferd  Average Speed   Time    Time     Time  Current\n",
            "                                 Dload  Upload   Total   Spent    Left  Speed\n",
            "\r  0     0    0     0    0     0      0      0 --:--:-- --:--:-- --:--:--     0\r100   408    0   408    0     0   2684      0 --:--:-- --:--:-- --:--:--  2666\r100   408    0   408    0     0   2684      0 --:--:-- --:--:-- --:--:--  2666\n",
            "\r  0     0    0     0    0     0      0      0 --:--:-- --:--:-- --:--:--     0\n",
            "\r  0     0    0     0    0     0      0      0 --:--:-- --:--:-- --:--:--     0\n",
            "\r100 32.4M    0 32.4M    0     0  29.4M      0 --:--:--  0:00:01 --:--:-- 29.4M\r100  171M    0  171M    0     0   102M      0 --:--:--  0:00:01 --:--:--  243M\n",
            "File ‘config.yml’ already there; not retrieving.\n"
          ],
          "name": "stderr"
        }
      ]
    },
    {
      "cell_type": "code",
      "metadata": {
        "id": "toXMd90z7hZa"
      },
      "source": [
        "import os\n",
        "import requests\n",
        "from typing import List, Dict\n",
        "\n",
        "from PIL import Image\n",
        "\n",
        "import numpy as np\n",
        "import matplotlib.pyplot as plt\n",
        "\n",
        "import torch\n",
        "import torch.nn as nn\n",
        "import torchvision\n",
        "from torchvision import models, transforms\n",
        "\n",
        "\n",
        "RED = '\\033[31m'\n",
        "GREEN = '\\033[32m'\n",
        "YELLOW = '\\033[33m'\n",
        "BLUE = '\\033[34m'\n",
        "END = '\\033[0m'\n",
        "\n",
        "\n",
        "DEVICE = torch.device('cuda' if torch.cuda.is_available() else 'cpu')"
      ],
      "execution_count": null,
      "outputs": []
    },
    {
      "cell_type": "code",
      "metadata": {
        "id": "394Br5Li8Ax9"
      },
      "source": [
        "import torch\n",
        "from transformers import AutoModel, AutoTokenizer, BertJapaneseTokenizer\n",
        "\n",
        "\n",
        "class MyTokenizer(object):\n",
        "    def __init__(self, model='cl-tohoku/bert-base-japanese-whole-word-masking', max_len=256):\n",
        "        self.name = model\n",
        "        self.max_length = max_len\n",
        "\n",
        "    @property\n",
        "    def tokenizer(self):\n",
        "        if 'japanese' in self.name:\n",
        "            from transformers import BertJapaneseTokenizer\n",
        "            return BertJapaneseTokenizer.from_pretrained(self.name)\n",
        "        elif 'bert' in self.name:\n",
        "            from transformers import BertTokenizer\n",
        "            return BertTokenizer.from_pretrained(self.name)\n",
        "        # else:\n",
        "\n",
        "    def tokenize(self, sentence:str):\n",
        "        return self.tokenizer(\n",
        "            sentence,\n",
        "            max_length = self.max_length,\n",
        "            truncation = True,\n",
        "            padding = True,\n",
        "            return_tensors = \"pt\",\n",
        "        )\n",
        "\n",
        "    def decode(self, input_ids:torch.tensor):\n",
        "        return self.tokenizer.decode(input_ids)"
      ],
      "execution_count": null,
      "outputs": []
    },
    {
      "cell_type": "markdown",
      "metadata": {
        "id": "t4UxgbUm6JBQ"
      },
      "source": [
        "## モデル\n",
        "- 上記のチュートリアルのモデルと若干異なるので再定義します"
      ]
    },
    {
      "cell_type": "code",
      "metadata": {
        "id": "k4mUk3bHMNUJ"
      },
      "source": [
        "from omegaconf.dictconfig import DictConfig\n",
        "from transformers import DeiTFeatureExtractor, DeiTModel, DeiTConfig\n",
        "\n",
        "class ImageEncoder(nn.Module):\n",
        "    def __init__(self, cfg:DictConfig) -> None:\n",
        "        super().__init__()\n",
        "        self.model_name = cfg.model.enc_image.model_name\n",
        "        self.base, dim_i, dim_e = self.set_model()\n",
        "        for p in self.base.parameters():\n",
        "            p.requires_grad = False\n",
        "        self.linear = nn.Linear(dim_e, cfg.model.enc_image.dim_out)\n",
        "        self.bnorm = nn.BatchNorm1d(dim_e, momentum=cfg.model.enc_image.batch_norm)\n",
        "        self.resize = transforms.Resize((dim_i, dim_i))\n",
        "\n",
        "    def set_model(self):\n",
        "        if self.model_name == 'resnet34':\n",
        "            base = models.resnet34(pretrained=True)\n",
        "            dim_e = base.fc.in_features\n",
        "            base.fc = nn.Identity() # 最後のfc層は不要\n",
        "            return base, 128, dim_e\n",
        "        elif self.model_name == 'deit':\n",
        "            # self.feature_extractor = DeiTFeatureExtractor.from_pretrained('facebook/deit-base-distilled-patch16-224', crop_size=128)\n",
        "            base = DeiTModel.from_pretrained('facebook/deit-base-distilled-patch16-224', add_pooling_layer=True)\n",
        "            dim_e = base.pooler.dense.out_features\n",
        "            return base, 224, dim_e\n",
        "\n",
        "    def forward(self, x):   # batch * channel * height * width\n",
        "        x = self.resize(x)\n",
        "        x = self.base(x)\n",
        "        if self.model_name in ('deit'):\n",
        "            x = x['pooler_output']\n",
        "        return self.bnorm(self.linear(x))\n",
        "\n",
        "\n",
        "class TextDecoder(nn.Module):\n",
        "    def __init__(self, cfg:DictConfig, vocab_size:int):\n",
        "        super().__init__()\n",
        "        dim_i = cfg.model.enc_image.dim_out\n",
        "        self.embed = nn.Embedding(vocab_size, dim_i)\n",
        "        self.lstm = nn.LSTM(dim_i, cfg.model.dec_text.dim_out)\n",
        "        self.linear = nn.Linear(cfg.model.dec_text.dim_out, vocab_size)\n",
        "        self.seq_len = cfg.model.dec_text.seq_len\n",
        "\n",
        "    def forward(self, x, captions, lengths):\n",
        "        embeddings = self.embed(captions)\n",
        "        embeddings = torch.cat((x.unsqueeze(1), embeddings), 1)\n",
        "        packed = pack_padded_sequence(embeddings, lengths, batch_first=True) \n",
        "        hiddens, _ = self.lstm(packed)\n",
        "        outputs = self.linear(hiddens[0])\n",
        "        return outputs\n",
        "\n",
        "    def sample(self, features, states=None):\n",
        "        \"\"\"Generate captions for given image features using greedy search.\"\"\"\n",
        "        sampled_ids = []\n",
        "        inputs = features.unsqueeze(1)\n",
        "        for i in range(self.seq_len):\n",
        "            hiddens, states = self.lstm(inputs, states)          # hiddens: (batch_size, 1, hidden_size)\n",
        "            outputs = self.linear(hiddens.squeeze(1))            # outputs:  (batch_size, vocab_size)\n",
        "            _, predicted = outputs.max(1)                        # predicted: (batch_size)\n",
        "            sampled_ids.append(predicted)\n",
        "            inputs = self.embed(predicted)                       # inputs: (batch_size, embed_size)\n",
        "            inputs = inputs.unsqueeze(1)                         # inputs: (batch_size, 1, embed_size)\n",
        "        sampled_ids = torch.stack(sampled_ids, 1)                # sampled_ids: (batch_size, max_seq_length)\n",
        "        return sampled_ids\n"
      ],
      "execution_count": null,
      "outputs": []
    },
    {
      "cell_type": "code",
      "metadata": {
        "id": "jRduH6RONnJk",
        "colab": {
          "base_uri": "https://localhost:8080/"
        },
        "outputId": "3e2a8fd9-90f7-41d0-a79d-1864f294b178"
      },
      "source": [
        "from omegaconf import OmegaConf\n",
        "from omegaconf.dictconfig import DictConfig\n",
        "\n",
        "\n",
        "cfg = OmegaConf.load('config.yml')\n",
        "\n",
        "transform_fn =  transforms.Compose([\n",
        "    transforms.Resize((128, 128)),\n",
        "    transforms.ToTensor(),\n",
        "    transforms.Normalize(mean=(.485, .456, .406), std=(.229, .224, .225)),\n",
        "])\n",
        "\n",
        "tokenizer = MyTokenizer(cfg.model.tokenizer.model_name)\n",
        "encoder = ImageEncoder(cfg).to(DEVICE)\n",
        "decoder = TextDecoder(cfg, 32000).to(DEVICE)\n",
        "\n",
        "encoder.eval()\n",
        "decoder.eval()\n",
        "\n",
        "# 訓練済みのモデルパラメータをロード\n",
        "dir_model = '/content/models/'\n",
        "encoder.load_state_dict(torch.load(os.path.join(dir_model, 'encoder.ckpt')))\n",
        "decoder.load_state_dict(torch.load(os.path.join(dir_model, 'decoder.ckpt')))"
      ],
      "execution_count": null,
      "outputs": [
        {
          "output_type": "execute_result",
          "data": {
            "text/plain": [
              "<All keys matched successfully>"
            ]
          },
          "metadata": {
            "tags": []
          },
          "execution_count": 22
        }
      ]
    },
    {
      "cell_type": "markdown",
      "metadata": {
        "id": "94vSWcSb6ZQJ"
      },
      "source": [
        "## Main"
      ]
    },
    {
      "cell_type": "code",
      "metadata": {
        "colab": {
          "base_uri": "https://localhost:8080/",
          "height": 281
        },
        "id": "PNQHC3fNLpCQ",
        "outputId": "61472f82-e6b7-4b6e-9a57-c314ecca39ff"
      },
      "source": [
        "path = input('画像を入力してください > ')\n",
        "if os.path.isfile(path):\n",
        "    image = Image.open(path)\n",
        "elif path.startswith('http'):\n",
        "    image = Image.open(requests.get(path, stream=True).raw)\n",
        "\n",
        "image_tensor = transform_fn(image).to(DEVICE)\n",
        "image_tensor = torch.stack([image_tensor])\n",
        "\n",
        "# 画像から トークンID を生成\n",
        "feature = encoder(image_tensor)\n",
        "sampled_ids = decoder.sample(feature)\n",
        "sampled_ids = sampled_ids[0].cpu().numpy()\n",
        "\n",
        "# トークンID のデコード\n",
        "sentence = tokenizer.tokenizer.decode(sampled_ids)\n",
        "sentence = sentence.replace('[CLS]', '').replace('[SEP]', '').replace('[PAD]', '')\n",
        "sentence = ''.join(sentence.split())\n",
        "\n",
        "# 出力画像の表示\n",
        "print(sentence, flush=True)\n",
        "plt.imshow(image)\n",
        "plt.axis('off')\n",
        "plt.show()"
      ],
      "execution_count": null,
      "outputs": [
        {
          "output_type": "stream",
          "text": [
            "画像を入力してください > https://instagrammernewsimg.s3.ap-northeast-1-ntt.wasabisys.com/CJYvfxoBgwZ\n",
            "犬が舌を出してこちらを見ている\n"
          ],
          "name": "stdout"
        },
        {
          "output_type": "display_data",
          "data": {
            "image/png": "[encoded data removed]",
            "text/plain": [
              "<Figure size 432x288 with 1 Axes>"
            ]
          },
          "metadata": {
            "tags": [],
            "needs_background": "light"
          }
        }
      ]
    },
    {
      "cell_type": "code",
      "metadata": {
        "id": "4J4S_OFlQ-XP"
      },
      "source": [
        ""
      ],
      "execution_count": null,
      "outputs": []
    }
  ]
}